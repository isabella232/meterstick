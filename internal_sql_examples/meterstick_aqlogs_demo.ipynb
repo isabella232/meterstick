{
  "cells": [
    {
      "cell_type": "markdown",
      "metadata": {
        "colab_type": "text",
        "id": "Fi_w9KQcE4NI"
      },
      "source": [
        "go/meterstick-demo-aqlogs"
      ]
    },
    {
      "cell_type": "code",
      "execution_count": null,
      "metadata": {
        "colab": {
          "height": 194
        },
        "colab_type": "code",
        "executionInfo": {
          "elapsed": 25486,
          "status": "ok",
          "timestamp": 1600729192515,
          "user": {
            "displayName": "Xunmo Yang",
            "photoUrl": "",
            "userId": "12474546967758012552"
          },
          "user_tz": 420
        },
        "id": "y5z03-biqBH0",
        "outputId": "21287e98-88aa-4c30-dc92-bf44bd294ab3"
      },
      "outputs": [
        {
          "name": "stdout",
          "output_type": "stream",
          "text": [
            "Done! Processed commands DEFINE: 6, LOAD: 0, SET: 0\n"
          ]
        },
        {
          "data": {
            "text/html": [
              "\u003cp style=\"word-break: break-all\"\u003e\u003cdiv style=\"font-weight: bold; color: black; background-color: orange; float: left;\"\u003e\u0026nbsp;WARNING\u0026nbsp;\u003c/div\u003e\u003cdiv style=\"float: left\"\u003e\u0026nbsp;\u0026nbsp;\u003c/div\u003eCould not import HIP go/hip macros as user xunmo, from:\u003cbr/\u003e\u003cbr/\u003e\u0026nbsp;\u0026nbsp; google3/ads/metrics/lib/development/datacube/PROTECTED/datacube_macros.sql\u003cbr/\u003e\u003cbr/\u003eCheck that your kernel has access to srcfs and that you have access to PROTECTED folders (you need to be a member of eng-hip-ads).\u003cbr/\u003e Ignore this message if you do not need HIP macros (mostly detailed LTV calculations).\u003c/p\u003e"
            ],
            "text/plain": [
              "\u003cIPython.core.display.HTML at 0x7f15d112ac50\u003e"
            ]
          },
          "metadata": {
            "tags": []
          },
          "output_type": "display_data"
        },
        {
          "name": "stdout",
          "output_type": "stream",
          "text": [
            "Done! Processed commands DEFINE: 1136, LOAD: 0, SET: 0\n"
          ]
        },
        {
          "data": {
            "text/html": [
              "\u003cp style=\"word-break: break-all\"\u003e\u003cdiv style=\"font-weight: bold; color: black; background-color: lightgrey; float: left;\"\u003e\u0026nbsp;STATUS\u0026nbsp;\u003c/div\u003e\u003cdiv style=\"float: left\"\u003e\u0026nbsp;\u0026nbsp;\u003c/div\u003eSuccessfully loaded Squiggle.\u003c/p\u003e"
            ],
            "text/plain": [
              "\u003cIPython.core.display.HTML at 0x7f15b4eea470\u003e"
            ]
          },
          "metadata": {
            "tags": [
              "d4a00f15-e888-48c4-8368-0f2a2f02189a"
            ]
          },
          "output_type": "display_data"
        }
      ],
      "source": [
        "from colabtools import adhoc_import\n",
        "\n",
        "try:\n",
        "  from google3.ads.metrics.lib.development.datacube import datacube_colab\n",
        "except ImportError:\n",
        "  with adhoc_import.Google3SubmittedChangelist():\n",
        "    from google3.ads.metrics.lib.development.datacube import datacube_colab\n",
        "\n",
        "datacube_colab.setup()\n",
        "\n",
        "with adhoc_import.Google3():\n",
        "  from meterstick.v2 import *"
      ]
    },
    {
      "cell_type": "code",
      "execution_count": null,
      "metadata": {
        "colab": {
          "height": 34
        },
        "colab_type": "code",
        "executionInfo": {
          "elapsed": 471,
          "status": "ok",
          "timestamp": 1600731423463,
          "user": {
            "displayName": "Xunmo Yang",
            "photoUrl": "",
            "userId": "12474546967758012552"
          },
          "user_tz": 420
        },
        "id": "61LCSGitIdIW",
        "outputId": "4117bb97-c3d6-4b8b-c636-3cc941528f23"
      },
      "outputs": [
        {
          "name": "stdout",
          "output_type": "stream",
          "text": [
            "Done! Processed commands DEFINE: 0, LOAD: 0, SET: 3\n"
          ]
        }
      ],
      "source": [
        "%%dremel\n",
        "SET SQL_DIALECT GOOGLESQL;\n",
        "SET MIN_COMPLETION_RATIO 1;"
      ]
    },
    {
      "cell_type": "code",
      "execution_count": null,
      "metadata": {
        "colab": {
          "height": 204
        },
        "colab_type": "code",
        "executionInfo": {
          "elapsed": 327844,
          "status": "ok",
          "timestamp": 1600731779882,
          "user": {
            "displayName": "Xunmo Yang",
            "photoUrl": "",
            "userId": "12474546967758012552"
          },
          "user_tz": 420
        },
        "id": "iP98iBEWA2B-",
        "outputId": "a2fc36fe-6f4c-4036-b545-9502c057515e"
      },
      "outputs": [
        {
          "data": {
            "text/html": [
              "\u003cdiv\u003e\n",
              "\u003cstyle scoped\u003e\n",
              "    .dataframe tbody tr th:only-of-type {\n",
              "        vertical-align: middle;\n",
              "    }\n",
              "\n",
              "    .dataframe tbody tr th {\n",
              "        vertical-align: top;\n",
              "    }\n",
              "\n",
              "    .dataframe thead tr th {\n",
              "        text-align: left;\n",
              "    }\n",
              "\n",
              "    .dataframe thead tr:last-of-type th {\n",
              "        text-align: right;\n",
              "    }\n",
              "\u003c/style\u003e\n",
              "\u003ctable border=\"1\" class=\"dataframe\"\u003e\n",
              "  \u003cthead\u003e\n",
              "    \u003ctr\u003e\n",
              "      \u003cth\u003e\u003c/th\u003e\n",
              "      \u003cth\u003eMetric\u003c/th\u003e\n",
              "      \u003cth colspan=\"3\" halign=\"left\"\u003equeries_ads_percent_change\u003c/th\u003e\n",
              "      \u003cth colspan=\"3\" halign=\"left\"\u003equeries_event_percent_change\u003c/th\u003e\n",
              "    \u003c/tr\u003e\n",
              "    \u003ctr\u003e\n",
              "      \u003cth\u003e\u003c/th\u003e\n",
              "      \u003cth\u003e\u003c/th\u003e\n",
              "      \u003cth\u003eValue\u003c/th\u003e\n",
              "      \u003cth\u003eJackknife CI-lower\u003c/th\u003e\n",
              "      \u003cth\u003eJackknife CI-upper\u003c/th\u003e\n",
              "      \u003cth\u003eValue\u003c/th\u003e\n",
              "      \u003cth\u003eJackknife CI-lower\u003c/th\u003e\n",
              "      \u003cth\u003eJackknife CI-upper\u003c/th\u003e\n",
              "    \u003c/tr\u003e\n",
              "    \u003ctr\u003e\n",
              "      \u003cth\u003eproperty_group\u003c/th\u003e\n",
              "      \u003cth\u003eexperiment\u003c/th\u003e\n",
              "      \u003cth\u003e\u003c/th\u003e\n",
              "      \u003cth\u003e\u003c/th\u003e\n",
              "      \u003cth\u003e\u003c/th\u003e\n",
              "      \u003cth\u003e\u003c/th\u003e\n",
              "      \u003cth\u003e\u003c/th\u003e\n",
              "      \u003cth\u003e\u003c/th\u003e\n",
              "    \u003c/tr\u003e\n",
              "  \u003c/thead\u003e\n",
              "  \u003ctbody\u003e\n",
              "    \u003ctr\u003e\n",
              "      \u003cth\u003egoogle\u003c/th\u003e\n",
              "      \u003cth\u003e2004376\u003c/th\u003e\n",
              "      \u003ctd\u003e300.316363\u003c/td\u003e\n",
              "      \u003ctd\u003e299.819490\u003c/td\u003e\n",
              "      \u003ctd\u003e300.813235\u003c/td\u003e\n",
              "      \u003ctd\u003e300.308168\u003c/td\u003e\n",
              "      \u003ctd\u003e299.752341\u003c/td\u003e\n",
              "      \u003ctd\u003e300.863995\u003c/td\u003e\n",
              "    \u003c/tr\u003e\n",
              "    \u003ctr\u003e\n",
              "      \u003cth\u003egoogle_tablet\u003c/th\u003e\n",
              "      \u003cth\u003e2004376\u003c/th\u003e\n",
              "      \u003ctd\u003e301.177452\u003c/td\u003e\n",
              "      \u003ctd\u003e300.124456\u003c/td\u003e\n",
              "      \u003ctd\u003e302.230448\u003c/td\u003e\n",
              "      \u003ctd\u003e301.098059\u003c/td\u003e\n",
              "      \u003ctd\u003e299.812144\u003c/td\u003e\n",
              "      \u003ctd\u003e302.383974\u003c/td\u003e\n",
              "    \u003c/tr\u003e\n",
              "    \u003ctr\u003e\n",
              "      \u003cth\u003emobile_highend\u003c/th\u003e\n",
              "      \u003cth\u003e2004376\u003c/th\u003e\n",
              "      \u003ctd\u003e300.057285\u003c/td\u003e\n",
              "      \u003ctd\u003e299.681122\u003c/td\u003e\n",
              "      \u003ctd\u003e300.433447\u003c/td\u003e\n",
              "      \u003ctd\u003e300.086787\u003c/td\u003e\n",
              "      \u003ctd\u003e299.751921\u003c/td\u003e\n",
              "      \u003ctd\u003e300.421654\u003c/td\u003e\n",
              "    \u003c/tr\u003e\n",
              "  \u003c/tbody\u003e\n",
              "\u003c/table\u003e\n",
              "\u003c/div\u003e"
            ],
            "text/plain": [
              "Metric                    queries_ads_percent_change  ... queries_event_percent_change\n",
              "                                               Value  ...           Jackknife CI-upper\n",
              "property_group experiment                             ...                             \n",
              "google         2004376                    300.316363  ...                   300.863995\n",
              "google_tablet  2004376                    301.177452  ...                   302.383974\n",
              "mobile_highend 2004376                    300.057285  ...                   300.421654\n",
              "\n",
              "[3 rows x 6 columns]"
            ]
          },
          "execution_count": 23,
          "metadata": {
            "tags": [
              "4797ab7a-9424-4582-ac0e-88f138bf0734",
              "9a383af2-73c3-4ecb-93bf-5446fd3561e8",
              "af8cba9a-a99b-4a6c-94c6-09afd24692a7",
              "cfccea76-a1e8-42cf-acc1-c3ead35b6397",
              "d5177381-2246-43e6-aba2-a4d90dff7a3b",
              "e6147dc4-8f80-44e0-9d94-3083c2c25b6f"
            ]
          },
          "output_type": "execute_result"
        }
      ],
      "source": [
        "table = \"\"\"SELECT\n",
        "  $Experiment((2004375, 2004376)) as experiment,\n",
        "  $CookieBucket AS cookie,\n",
        "  $PropertyGroup AS property_group,\n",
        "  SUM($Queries) AS queries_ads,\n",
        "  SUM($SessionQueryEvents) AS queries_event,\n",
        "  SUM($SumOverImpressions($Clicks)) AS clicks\n",
        "FROM $DatedQueryTable(20200901)\n",
        "WHERE $PropertyGroup IN (\"google\", \"mobile_highend\", \"google_tablet\")\n",
        "GROUP BY 1, 2, 3\"\"\"\n",
        "\n",
        "queries_ads = Sum('queries_ads', 'queries_ads')\n",
        "queries_event = Sum('queries_event', 'queries_event')\n",
        "metrics = MetricList((queries_ads, queries_event))\n",
        "res = (metrics\n",
        "       | PercentChange('experiment', 2004375)\n",
        "       | Jackknife('cookie', confidence=0.95)\n",
        "       | compute_on_sql(table, 'property_group'))\n",
        "res"
      ]
    },
    {
      "cell_type": "code",
      "execution_count": null,
      "metadata": {
        "colab": {
          "height": 280
        },
        "colab_type": "code",
        "executionInfo": {
          "elapsed": 463,
          "status": "ok",
          "timestamp": 1600731851986,
          "user": {
            "displayName": "Xunmo Yang",
            "photoUrl": "",
            "userId": "12474546967758012552"
          },
          "user_tz": 420
        },
        "id": "0Aq02aqo7-mc",
        "outputId": "273ea06b-c559-40c3-ff5e-cc8891341285"
      },
      "outputs": [
        {
          "data": {
            "text/html": [
              "\u003cscript src=\"https://ssl.gstatic.com/colaboratory/data_table/a6224c040fa35dcf/data_table.js\" type=\"module\"\u003e\u003c/script\u003e\u003cdiv id=\"IT_id_873730162\"\u003e\u003c/div\u003e\u003cscript\u003e\n",
              "      (() =\u003e {\n",
              "        const data = [[\"\u003cdiv\u003e\u003cdiv\u003e\u003cspan class=\\\"ci-display-dimension\\\"\u003egoogle\u003c\\/span\u003e\u003c\\/div\u003e\u003c\\/div\u003e\",\n",
              "\"\u003cdiv class=\\\"ci-display-good-change ci-display-cell\\\"\u003e\u003cdiv\u003e\u003cspan class=\\\"ci-display-ratio\\\"\u003e300.32%\u003c\\/span\u003e\u003cdiv class=\\\"ci-display-flex-line-break\\\"\u003e\u003c\\/div\u003e\u003cspan class=\\\"ci-display-ci-range\\\"\u003e[299.82, 300.81] %\u003c\\/span\u003e\u003c\\/div\u003e\u003c\\/div\u003e\",\n",
              "\"\u003cdiv class=\\\"ci-display-good-change ci-display-cell\\\"\u003e\u003cdiv\u003e\u003cspan class=\\\"ci-display-ratio\\\"\u003e300.31%\u003c\\/span\u003e\u003cdiv class=\\\"ci-display-flex-line-break\\\"\u003e\u003c\\/div\u003e\u003cspan class=\\\"ci-display-ci-range\\\"\u003e[299.75, 300.86] %\u003c\\/span\u003e\u003c\\/div\u003e\u003c\\/div\u003e\"],\n",
              " [\"\u003cdiv\u003e\u003cdiv\u003e\u003cspan class=\\\"ci-display-dimension\\\"\u003egoogle_tablet\u003c\\/span\u003e\u003c\\/div\u003e\u003c\\/div\u003e\",\n",
              "\"\u003cdiv class=\\\"ci-display-good-change ci-display-cell\\\"\u003e\u003cdiv\u003e\u003cspan class=\\\"ci-display-ratio\\\"\u003e301.18%\u003c\\/span\u003e\u003cdiv class=\\\"ci-display-flex-line-break\\\"\u003e\u003c\\/div\u003e\u003cspan class=\\\"ci-display-ci-range\\\"\u003e[300.12, 302.23] %\u003c\\/span\u003e\u003c\\/div\u003e\u003c\\/div\u003e\",\n",
              "\"\u003cdiv class=\\\"ci-display-good-change ci-display-cell\\\"\u003e\u003cdiv\u003e\u003cspan class=\\\"ci-display-ratio\\\"\u003e301.10%\u003c\\/span\u003e\u003cdiv class=\\\"ci-display-flex-line-break\\\"\u003e\u003c\\/div\u003e\u003cspan class=\\\"ci-display-ci-range\\\"\u003e[299.81, 302.38] %\u003c\\/span\u003e\u003c\\/div\u003e\u003c\\/div\u003e\"],\n",
              " [\"\u003cdiv\u003e\u003cdiv\u003e\u003cspan class=\\\"ci-display-dimension\\\"\u003emobile_highend\u003c\\/span\u003e\u003c\\/div\u003e\u003c\\/div\u003e\",\n",
              "\"\u003cdiv class=\\\"ci-display-good-change ci-display-cell\\\"\u003e\u003cdiv\u003e\u003cspan class=\\\"ci-display-ratio\\\"\u003e300.06%\u003c\\/span\u003e\u003cdiv class=\\\"ci-display-flex-line-break\\\"\u003e\u003c\\/div\u003e\u003cspan class=\\\"ci-display-ci-range\\\"\u003e[299.68, 300.43] %\u003c\\/span\u003e\u003c\\/div\u003e\u003c\\/div\u003e\",\n",
              "\"\u003cdiv class=\\\"ci-display-good-change ci-display-cell\\\"\u003e\u003cdiv\u003e\u003cspan class=\\\"ci-display-ratio\\\"\u003e300.09%\u003c\\/span\u003e\u003cdiv class=\\\"ci-display-flex-line-break\\\"\u003e\u003c\\/div\u003e\u003cspan class=\\\"ci-display-ci-range\\\"\u003e[299.75, 300.42] %\u003c\\/span\u003e\u003c\\/div\u003e\u003c\\/div\u003e\"]];\n",
              "        const kernelTag = \"IT_id_873730162\";\n",
              "        const listenerId = \"Lstid_873730162\";\n",
              "        const saveCallback = (indices) =\u003e {\n",
              "        const max = 5000;\n",
              "        colabtools.sendMessageToKernel(kernelTag, {action: 'clear'});\n",
              "        // Send data back to ipython in batches of 5k indices at a time.\n",
              "        // Otherwise notebook silently fails at ~10K indices.\n",
              "        for (let i = 0; i \u003c (indices.length - 1) / max + 1; i++) {\n",
              "          const indiceList = indices.slice(i * max, (i + 1) * max);\n",
              "          colabtools.sendMessageToKernel(\n",
              "              kernelTag, {action: 'append', indices: indiceList});\n",
              "        }\n",
              "        colab.sendMessageToListeners(listenerId);\n",
              "      };\n",
              "        gvizInteractiveTable.create({\n",
              "          data,\n",
              "          saveCallback,\n",
              "          elementId: \"IT_id_873730162\",\n",
              "          columns: [[\"string\", \"Dimensions\"], [\"string\", \"queries_ads_percent_change\"], [\"string\", \"queries_event_percent_change\"]],\n",
              "          columnOptions: null,\n",
              "          rowsPerPage: 100,\n",
              "          helpUrl: \"https://colab.corp.google.com/notebooks/interactive_table.ipynb\",\n",
              "          disableXssSanitization: false,\n",
              "          renderAsPlainText: false,\n",
              "          suppressOutputScrolling: true,\n",
              "        });\n",
              "      })();\n",
              "    //# sourceURL=table_IT_id_873730162\n",
              "    \u003c/script\u003e"
            ],
            "text/plain": [
              "\u003cIPython.core.display.HTML at 0x7f15b4f845f8\u003e"
            ]
          },
          "metadata": {
            "tags": []
          },
          "output_type": "display_data"
        },
        {
          "data": {
            "text/html": [
              "\u003cp id=feature-request-footnote\u003e\u003csmall id=feature-request-auto-hide\u003eClick \u003ca href=\"http://b/new?component=459832\"\u003ehere\u003c/a\u003e to submit bugs or feature requests for the display function.\u003c/small\u003e\u003c/p\u003e"
            ],
            "text/plain": [
              "\u003cIPython.core.display.HTML at 0x7f15b4f845f8\u003e"
            ]
          },
          "metadata": {
            "tags": []
          },
          "output_type": "display_data"
        },
        {
          "data": {
            "text/html": [
              "\u003cstyle\u003e\n",
              "  /* Use light mode CSS even in dark mode to make things consistent. Taken from\n",
              "    http://google3/research/colab/frontend/common/output/theme.css\n",
              "  */\n",
              "  body {\n",
              "    --colab-anchor-color: #00e;\n",
              "    --colab-primary-text-color: var(--paper-grey-900);\n",
              "    --colab-primary-surface-color: var(--paper-white);\n",
              "    --colab-secondary-surface-color: #f7f7f7;\n",
              "    --colab-highlighted-surface-color: var(--paper-grey-300);\n",
              "    --colab-border-color: #dadada;\n",
              "    --colab-bold-border-color: #111;\n",
              "    --colab-icon-color: #616161;\n",
              "  }\n",
              "\n",
              "  /* For the whole table body. */\n",
              "  tbody {\n",
              "    text-align: center;\n",
              "  }\n",
              "\n",
              "  /* Make the table scrollable */\n",
              "  .google-visualization-table \u003e div:first-child {\n",
              "    max-height: 700px;\n",
              "  }\n",
              "\n",
              "  /* When scrolling, the first row of the table keeps its white background */\n",
              "  colab-interactive-table .google-visualization-table-tr-head\n",
              "    .google-visualization-table-th {\n",
              "    background: white;\n",
              "  }\n",
              "\n",
              "  .google-visualization-table {\n",
              "    width: auto !important;  /* To disable table from taking up full width. */\n",
              "  }\n",
              "\n",
              "  .google-visualization-table-table {\n",
              "    font-size: 10.5pt;  /* Font size for the whole table. */\n",
              "  }\n",
              "\n",
              "  /* Wrap the long column name. */\n",
              "  .google-visualization-table-th {\n",
              "    max-width: 120px;\n",
              "    white-space: normal !important;\n",
              "    word-wrap: break-word;\n",
              "  }\n",
              "\n",
              "  /* Get rid of the white padding around color cells. */\n",
              "  .google-visualization-table-td {\n",
              "    height: 1px;  /* Let the cell grow with text. */\n",
              "    padding: 0.5px !important;\n",
              "  }\n",
              "\n",
              "  .ci-display-cell{\n",
              "    height: 100%;\n",
              "    padding: 5px;\n",
              "    /* Center the content in the cell. */\n",
              "    display: flex;\n",
              "    align-items: center;\n",
              "    justify-content: center;\n",
              "  }\n",
              "\n",
              "  /* Formats Dimension column if there is one. */\n",
              "  .ci-display-dimension {\n",
              "    color: green;\n",
              "    padding: 2px;\n",
              "  }\n",
              "\n",
              "  /* Renders the description text. */\n",
              "  .ci-display-description-text {\n",
              "    color: black;\n",
              "  }\n",
              "\n",
              "  /* Renders the experiment id in blue. */\n",
              "  .ci-display-experiment-id {\n",
              "    color: #15c;\n",
              "  }\n",
              "\n",
              "  /* Break line in a flex display. */\n",
              "  .ci-display-flex-line-break {\n",
              "    width: 100%;\n",
              "  }\n",
              "\n",
              "  /* Renders the cells w/ positive confidence interval to green. */\n",
              "  .ci-display-good-change {\n",
              "    background-color: rgb(221,255,187);\n",
              "    color: green;\n",
              "  }\n",
              "\n",
              "  /* Renders the cells w/ negative confidence interval to red. */\n",
              "  .ci-display-bad-change {\n",
              "    background-color: rgb(255,221,187);\n",
              "    color: red;\n",
              "  }\n",
              "\n",
              "  .ci-display-ratio {\n",
              "    font-size: 120%; /* Renders the ratio value in larger font. */\n",
              "  }\n",
              "\n",
              "  .ci-display-ci-range {\n",
              "    white-space: nowrap;  /* Don't break line in the middle of CI range.\n",
              "  }\n",
              "\n",
              "  /* Display the footnote message for 5s then fade out. Adjusted from */\n",
              "  /* https://stackoverflow.com/a/43397509/2771265. */\n",
              "  #feature-request-footnote {\n",
              "    overflow:hidden;\n",
              "    position:relative;\n",
              "  }\n",
              "\n",
              "  #feature-request-auto-hide {\n",
              "    -webkit-animation: css-animation 10s forwards;\n",
              "    animation: css-animation 10s forwards;\n",
              "  }\n",
              "\n",
              "  @keyframes css-animation {\n",
              "    0%   {opacity: 1;}\n",
              "    100% {opacity: 0;}\n",
              "  }\n",
              "\n",
              "  @-webkit-keyframes css-animation {\n",
              "    0%   {opacity: 1;}\n",
              "    100% {opacity: 0;}\n",
              "  }\n",
              "\u003c/style\u003e"
            ],
            "text/plain": [
              "\u003cIPython.core.display.HTML at 0x7f15b4f845f8\u003e"
            ]
          },
          "metadata": {
            "tags": []
          },
          "output_type": "display_data"
        }
      ],
      "source": [
        "res.display()"
      ]
    },
    {
      "cell_type": "markdown",
      "metadata": {
        "colab_type": "text",
        "id": "TRDq39ChCcRE"
      },
      "source": [
        "Agrees to [Rasta](https://rasta.corp.google.com/#/metrics?snapshot=xunmo:ShoppingTuningLayerCookieDayControl_20200921_163946).\n",
        "\n",
        "![Rasta](https://screenshot.googleplex.com/7pHvRPDYF8Kub6u.png)"
      ]
    },
    {
      "cell_type": "code",
      "execution_count": null,
      "metadata": {
        "colab": {
          "height": 167
        },
        "colab_type": "code",
        "executionInfo": {
          "elapsed": 371865,
          "status": "ok",
          "timestamp": 1600732303420,
          "user": {
            "displayName": "Xunmo Yang",
            "photoUrl": "",
            "userId": "12474546967758012552"
          },
          "user_tz": 420
        },
        "id": "ZSBLBFrZqfw2",
        "outputId": "b3494f84-d656-4edd-864f-f9f01216eaf4"
      },
      "outputs": [
        {
          "data": {
            "text/html": [
              "\u003cscript src=\"https://ssl.gstatic.com/colaboratory/data_table/a6224c040fa35dcf/data_table.js\" type=\"module\"\u003e\u003c/script\u003e\u003cdiv id=\"IT_id_873730257\"\u003e\u003c/div\u003e\u003cscript\u003e\n",
              "      (() =\u003e {\n",
              "        const data = [[\"\u003cdiv class=\\\"ci-display-bad-change ci-display-cell\\\"\u003e\u003cdiv\u003e\u003cspan class=\\\"ci-display-ratio\\\"\u003e-0.17%\u003c\\/span\u003e\u003cdiv class=\\\"ci-display-flex-line-break\\\"\u003e\u003c\\/div\u003e\u003cspan class=\\\"ci-display-ci-range\\\"\u003e[-0.31, -0.02] %\u003c\\/span\u003e\u003c\\/div\u003e\u003c\\/div\u003e\"]];\n",
              "        const kernelTag = \"IT_id_873730257\";\n",
              "        const listenerId = \"Lstid_873730257\";\n",
              "        const saveCallback = (indices) =\u003e {\n",
              "        const max = 5000;\n",
              "        colabtools.sendMessageToKernel(kernelTag, {action: 'clear'});\n",
              "        // Send data back to ipython in batches of 5k indices at a time.\n",
              "        // Otherwise notebook silently fails at ~10K indices.\n",
              "        for (let i = 0; i \u003c (indices.length - 1) / max + 1; i++) {\n",
              "          const indiceList = indices.slice(i * max, (i + 1) * max);\n",
              "          colabtools.sendMessageToKernel(\n",
              "              kernelTag, {action: 'append', indices: indiceList});\n",
              "        }\n",
              "        colab.sendMessageToListeners(listenerId);\n",
              "      };\n",
              "        gvizInteractiveTable.create({\n",
              "          data,\n",
              "          saveCallback,\n",
              "          elementId: \"IT_id_873730257\",\n",
              "          columns: [[\"string\", \"ctr_mh_ratio\"]],\n",
              "          columnOptions: null,\n",
              "          rowsPerPage: 100,\n",
              "          helpUrl: \"https://colab.corp.google.com/notebooks/interactive_table.ipynb\",\n",
              "          disableXssSanitization: false,\n",
              "          renderAsPlainText: false,\n",
              "          suppressOutputScrolling: true,\n",
              "        });\n",
              "      })();\n",
              "    //# sourceURL=table_IT_id_873730257\n",
              "    \u003c/script\u003e"
            ],
            "text/plain": [
              "\u003cIPython.core.display.HTML at 0x7f159f61e160\u003e"
            ]
          },
          "metadata": {
            "tags": [
              "13ae04e1-9bc9-423f-aeeb-47064debd03e",
              "2ee3578a-62d9-47b7-bbf6-9bb988a1ea77",
              "3bd49c48-d449-4857-a103-dad62a6556cb",
              "4ca767f8-59b0-42e5-93e9-c506e5f1c483",
              "74ed48b6-8647-4d35-a9a8-205930ca7b5d",
              "ba013c17-f788-40fa-9d3f-abb43b1f6680"
            ]
          },
          "output_type": "display_data"
        },
        {
          "data": {
            "text/html": [
              "\u003cp id=feature-request-footnote\u003e\u003csmall id=feature-request-auto-hide\u003eClick \u003ca href=\"http://b/new?component=459832\"\u003ehere\u003c/a\u003e to submit bugs or feature requests for the display function.\u003c/small\u003e\u003c/p\u003e"
            ],
            "text/plain": [
              "\u003cIPython.core.display.HTML at 0x7f159f61e160\u003e"
            ]
          },
          "metadata": {
            "tags": [
              "13ae04e1-9bc9-423f-aeeb-47064debd03e",
              "2ee3578a-62d9-47b7-bbf6-9bb988a1ea77",
              "3bd49c48-d449-4857-a103-dad62a6556cb",
              "4ca767f8-59b0-42e5-93e9-c506e5f1c483",
              "74ed48b6-8647-4d35-a9a8-205930ca7b5d",
              "ba013c17-f788-40fa-9d3f-abb43b1f6680"
            ]
          },
          "output_type": "display_data"
        },
        {
          "data": {
            "text/html": [
              "\u003cstyle\u003e\n",
              "  /* Use light mode CSS even in dark mode to make things consistent. Taken from\n",
              "    http://google3/research/colab/frontend/common/output/theme.css\n",
              "  */\n",
              "  body {\n",
              "    --colab-anchor-color: #00e;\n",
              "    --colab-primary-text-color: var(--paper-grey-900);\n",
              "    --colab-primary-surface-color: var(--paper-white);\n",
              "    --colab-secondary-surface-color: #f7f7f7;\n",
              "    --colab-highlighted-surface-color: var(--paper-grey-300);\n",
              "    --colab-border-color: #dadada;\n",
              "    --colab-bold-border-color: #111;\n",
              "    --colab-icon-color: #616161;\n",
              "  }\n",
              "\n",
              "  /* For the whole table body. */\n",
              "  tbody {\n",
              "    text-align: center;\n",
              "  }\n",
              "\n",
              "  /* Make the table scrollable */\n",
              "  .google-visualization-table \u003e div:first-child {\n",
              "    max-height: 700px;\n",
              "  }\n",
              "\n",
              "  /* When scrolling, the first row of the table keeps its white background */\n",
              "  colab-interactive-table .google-visualization-table-tr-head\n",
              "    .google-visualization-table-th {\n",
              "    background: white;\n",
              "  }\n",
              "\n",
              "  .google-visualization-table {\n",
              "    width: auto !important;  /* To disable table from taking up full width. */\n",
              "  }\n",
              "\n",
              "  .google-visualization-table-table {\n",
              "    font-size: 10.5pt;  /* Font size for the whole table. */\n",
              "  }\n",
              "\n",
              "  /* Wrap the long column name. */\n",
              "  .google-visualization-table-th {\n",
              "    max-width: 120px;\n",
              "    white-space: normal !important;\n",
              "    word-wrap: break-word;\n",
              "  }\n",
              "\n",
              "  /* Get rid of the white padding around color cells. */\n",
              "  .google-visualization-table-td {\n",
              "    height: 1px;  /* Let the cell grow with text. */\n",
              "    padding: 0.5px !important;\n",
              "  }\n",
              "\n",
              "  .ci-display-cell{\n",
              "    height: 100%;\n",
              "    padding: 5px;\n",
              "    /* Center the content in the cell. */\n",
              "    display: flex;\n",
              "    align-items: center;\n",
              "    justify-content: center;\n",
              "  }\n",
              "\n",
              "  /* Formats Dimension column if there is one. */\n",
              "  .ci-display-dimension {\n",
              "    color: green;\n",
              "    padding: 2px;\n",
              "  }\n",
              "\n",
              "  /* Renders the description text. */\n",
              "  .ci-display-description-text {\n",
              "    color: black;\n",
              "  }\n",
              "\n",
              "  /* Renders the experiment id in blue. */\n",
              "  .ci-display-experiment-id {\n",
              "    color: #15c;\n",
              "  }\n",
              "\n",
              "  /* Break line in a flex display. */\n",
              "  .ci-display-flex-line-break {\n",
              "    width: 100%;\n",
              "  }\n",
              "\n",
              "  /* Renders the cells w/ positive confidence interval to green. */\n",
              "  .ci-display-good-change {\n",
              "    background-color: rgb(221,255,187);\n",
              "    color: green;\n",
              "  }\n",
              "\n",
              "  /* Renders the cells w/ negative confidence interval to red. */\n",
              "  .ci-display-bad-change {\n",
              "    background-color: rgb(255,221,187);\n",
              "    color: red;\n",
              "  }\n",
              "\n",
              "  .ci-display-ratio {\n",
              "    font-size: 120%; /* Renders the ratio value in larger font. */\n",
              "  }\n",
              "\n",
              "  .ci-display-ci-range {\n",
              "    white-space: nowrap;  /* Don't break line in the middle of CI range.\n",
              "  }\n",
              "\n",
              "  /* Display the footnote message for 5s then fade out. Adjusted from */\n",
              "  /* https://stackoverflow.com/a/43397509/2771265. */\n",
              "  #feature-request-footnote {\n",
              "    overflow:hidden;\n",
              "    position:relative;\n",
              "  }\n",
              "\n",
              "  #feature-request-auto-hide {\n",
              "    -webkit-animation: css-animation 10s forwards;\n",
              "    animation: css-animation 10s forwards;\n",
              "  }\n",
              "\n",
              "  @keyframes css-animation {\n",
              "    0%   {opacity: 1;}\n",
              "    100% {opacity: 0;}\n",
              "  }\n",
              "\n",
              "  @-webkit-keyframes css-animation {\n",
              "    0%   {opacity: 1;}\n",
              "    100% {opacity: 0;}\n",
              "  }\n",
              "\u003c/style\u003e"
            ],
            "text/plain": [
              "\u003cIPython.core.display.HTML at 0x7f159f61e160\u003e"
            ]
          },
          "metadata": {
            "tags": [
              "13ae04e1-9bc9-423f-aeeb-47064debd03e",
              "2ee3578a-62d9-47b7-bbf6-9bb988a1ea77",
              "3bd49c48-d449-4857-a103-dad62a6556cb",
              "4ca767f8-59b0-42e5-93e9-c506e5f1c483",
              "74ed48b6-8647-4d35-a9a8-205930ca7b5d",
              "ba013c17-f788-40fa-9d3f-abb43b1f6680"
            ]
          },
          "output_type": "display_data"
        }
      ],
      "source": [
        "mh_ctr = (Ratio('clicks', 'queries_ads', 'ctr')\n",
        "       | MH('experiment', 2004375, 'property_group')\n",
        "       | Jackknife('cookie', confidence=0.95)\n",
        "       | compute_on_sql(table))\n",
        "mh_ctr.display()"
      ]
    }
  ],
  "metadata": {
    "colab": {
      "collapsed_sections": [],
      "last_runtime": {
        "build_target": "//ads/metrics/lib/development/datacube:aqlogs_colab_notebook",
        "kind": "private"
      },
      "name": "Meterstick AQLogs demo",
      "provenance": [
        {
          "file_id": "1X-5W48L0chIPoxATAMVcLrQN4Dkcb_hf",
          "timestamp": 1600732355323
        },
        {
          "file_id": "1Y2WedeK3Ow-SY-ot4g9jdLGzO5fr7Nh-",
          "timestamp": 1594426353190
        },
        {
          "file_id": "1kMk-nA4hJmdj0rnasawaJsrxIfB83JHT",
          "timestamp": 1586408523823
        }
      ]
    },
    "kernelspec": {
      "display_name": "Python 3",
      "name": "python3"
    }
  },
  "nbformat": 4,
  "nbformat_minor": 0
}
